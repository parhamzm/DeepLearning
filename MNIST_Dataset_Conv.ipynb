{
  "nbformat": 4,
  "nbformat_minor": 0,
  "metadata": {
    "colab": {
      "name": "MNIST Dataset Conv.ipynb",
      "version": "0.3.2",
      "provenance": []
    },
    "kernelspec": {
      "name": "python3",
      "display_name": "Python 3"
    },
    "accelerator": "GPU"
  },
  "cells": [
    {
      "cell_type": "code",
      "metadata": {
        "id": "G4AoQN0nS8mI",
        "colab_type": "code",
        "outputId": "4e829733-28ed-4152-a61f-f77933407ffd",
        "colab": {
          "base_uri": "https://localhost:8080/",
          "height": 121
        }
      },
      "source": [
        "!pip3 install torch torchvision"
      ],
      "execution_count": 0,
      "outputs": [
        {
          "output_type": "stream",
          "text": [
            "Requirement already satisfied: torch in /usr/local/lib/python3.6/dist-packages (1.1.0)\n",
            "Requirement already satisfied: torchvision in /usr/local/lib/python3.6/dist-packages (0.3.0)\n",
            "Requirement already satisfied: numpy in /usr/local/lib/python3.6/dist-packages (from torch) (1.16.5)\n",
            "Requirement already satisfied: six in /usr/local/lib/python3.6/dist-packages (from torchvision) (1.12.0)\n",
            "Requirement already satisfied: pillow>=4.1.1 in /usr/local/lib/python3.6/dist-packages (from torchvision) (4.3.0)\n",
            "Requirement already satisfied: olefile in /usr/local/lib/python3.6/dist-packages (from pillow>=4.1.1->torchvision) (0.46)\n"
          ],
          "name": "stdout"
        }
      ]
    },
    {
      "cell_type": "code",
      "metadata": {
        "id": "QM6X2b_RTEa2",
        "colab_type": "code",
        "colab": {}
      },
      "source": [
        "import torch\n",
        "import matplotlib.pyplot as plt\n",
        "from torchvision import datasets, transforms\n",
        "import numpy as np\n",
        "import torch.nn.functional as F\n",
        "from torch import nn"
      ],
      "execution_count": 0,
      "outputs": []
    },
    {
      "cell_type": "code",
      "metadata": {
        "id": "C8v_cdl2tR4u",
        "colab_type": "code",
        "colab": {}
      },
      "source": [
        "device = torch.device('cuda:0' if torch.cuda.is_available() else 'cpu')"
      ],
      "execution_count": 0,
      "outputs": []
    },
    {
      "cell_type": "code",
      "metadata": {
        "id": "D3p3rKKJTM_v",
        "colab_type": "code",
        "outputId": "d7bec617-e3c2-4fd6-d3f8-ab63205254a9",
        "colab": {
          "base_uri": "https://localhost:8080/",
          "height": 259
        }
      },
      "source": [
        "transform_trf = transforms.Compose([\n",
        "#                                     transforms.ToPILImage(),\n",
        "                                    transforms.Resize((28, 28)),\n",
        "                                    transforms.ToTensor(),\n",
        "#                                     transforms.Normalize((0.5, 0.5, 0.5), (0.5, 0.5, 0.5)),\n",
        "                                    transforms.Normalize([0.5], [0.5]),\n",
        "#                                     transforms.ToTensor(),\n",
        "                                    ])\n",
        "transform_temp = transforms.Compose([transforms.Resize((28,28)),\n",
        "#                                     transforms.ToTensor(),\n",
        "#                                     transforms.Normalize((0.5, 0.5, 0.5), (0.5, 0.5, 0.5)),\n",
        "#                                     transforms.Normalize([0.5], [0.5]),\n",
        "                                    ])\n",
        "# it converts the image from range of 0 -> 255 => float tensor in range from 0 -> 1\n",
        "# we normalize the values for each tensor of image size & height & width\n",
        "# we specify the standard deviation -> it changes the range to => -1 -> 1\n",
        "training_dataset = datasets.MNIST(root='./data', train=True, download=True, transform=transform_trf)\n",
        "validation_dataset = datasets.MNIST(root='./data', train=False, download=True, transform=transform_trf)\n",
        "\n",
        "\n",
        "training_loader = torch.utils.data.DataLoader(dataset=training_dataset, batch_size=100, shuffle=True) # shuffle the data helps to scape from local mimima and local maximas\n",
        "validation_loader = torch.utils.data.DataLoader(validation_dataset, batch_size=100, shuffle=False)\n"
      ],
      "execution_count": 0,
      "outputs": [
        {
          "output_type": "stream",
          "text": [
            "\r0it [00:00, ?it/s]"
          ],
          "name": "stderr"
        },
        {
          "output_type": "stream",
          "text": [
            "Downloading http://yann.lecun.com/exdb/mnist/train-images-idx3-ubyte.gz to ./data/MNIST/raw/train-images-idx3-ubyte.gz\n"
          ],
          "name": "stdout"
        },
        {
          "output_type": "stream",
          "text": [
            "9920512it [00:07, 1389968.43it/s]                             \n"
          ],
          "name": "stderr"
        },
        {
          "output_type": "stream",
          "text": [
            "Extracting ./data/MNIST/raw/train-images-idx3-ubyte.gz\n"
          ],
          "name": "stdout"
        },
        {
          "output_type": "stream",
          "text": [
            "\r0it [00:00, ?it/s]"
          ],
          "name": "stderr"
        },
        {
          "output_type": "stream",
          "text": [
            "Downloading http://yann.lecun.com/exdb/mnist/train-labels-idx1-ubyte.gz to ./data/MNIST/raw/train-labels-idx1-ubyte.gz\n"
          ],
          "name": "stdout"
        },
        {
          "output_type": "stream",
          "text": [
            "32768it [00:00, 67816.94it/s]                            \n",
            "0it [00:00, ?it/s]"
          ],
          "name": "stderr"
        },
        {
          "output_type": "stream",
          "text": [
            "Extracting ./data/MNIST/raw/train-labels-idx1-ubyte.gz\n",
            "Downloading http://yann.lecun.com/exdb/mnist/t10k-images-idx3-ubyte.gz to ./data/MNIST/raw/t10k-images-idx3-ubyte.gz\n"
          ],
          "name": "stdout"
        },
        {
          "output_type": "stream",
          "text": [
            "1654784it [00:01, 1154885.77it/s]                            \n",
            "0it [00:00, ?it/s]"
          ],
          "name": "stderr"
        },
        {
          "output_type": "stream",
          "text": [
            "Extracting ./data/MNIST/raw/t10k-images-idx3-ubyte.gz\n",
            "Downloading http://yann.lecun.com/exdb/mnist/t10k-labels-idx1-ubyte.gz to ./data/MNIST/raw/t10k-labels-idx1-ubyte.gz\n"
          ],
          "name": "stdout"
        },
        {
          "output_type": "stream",
          "text": [
            "8192it [00:00, 24866.25it/s]            "
          ],
          "name": "stderr"
        },
        {
          "output_type": "stream",
          "text": [
            "Extracting ./data/MNIST/raw/t10k-labels-idx1-ubyte.gz\n",
            "Processing...\n",
            "Done!\n"
          ],
          "name": "stdout"
        },
        {
          "output_type": "stream",
          "text": [
            "\n"
          ],
          "name": "stderr"
        }
      ]
    },
    {
      "cell_type": "code",
      "metadata": {
        "id": "K1qNLIWiVRbW",
        "colab_type": "code",
        "colab": {}
      },
      "source": [
        "def img_convert(tensor):\n",
        "  image = tensor.cpu().clone().detach().numpy()\n",
        "  image = image.transpose(1, 2, 0) # we reverse the pixels\n",
        "#   print(image.shape)\n",
        "  image = image * np.array((0.5, ) + np.array(0.5, )) # denormalization\n",
        "  image = image.clip(0, 1)\n",
        "  return image\n",
        "\n",
        "def img_convert2(tensor):\n",
        "  image = tensor.clone().detach().numpy()\n",
        "  image = image.transpose(1, 2, 0) # we reverse the pixels\n",
        "#   print(image.shape)\n",
        "  image = image * np.array((0.5, 0.5, 0.5) + np.array(0.5, 0.5, 0.5)) # denormalization\n",
        "  image = image.clip(0, 1)\n",
        "  return image"
      ],
      "execution_count": 0,
      "outputs": []
    },
    {
      "cell_type": "code",
      "metadata": {
        "id": "7xAq8D1AXgt-",
        "colab_type": "code",
        "outputId": "6d36db4e-cc34-4d81-92b6-a57d38f27e7d",
        "colab": {
          "base_uri": "https://localhost:8080/",
          "height": 288
        }
      },
      "source": [
        "data_iter = iter(training_loader) # it creates an object that allows us to throw the ittrable training loader one element at a time\n",
        "images, labels = data_iter.next() # it will grab the first batch of out training data\n",
        "fig = plt.figure(figsize=(25, 4)) # width & height of the figure ...\n",
        "\n",
        "for idx in np.arange(20):\n",
        "  ax = fig.add_subplot(2, 10, idx + 1, xticks=[], yticks=[]) # 2 rows & 10 columns!\n",
        "  plt.imshow(img_convert(images[idx]).squeeze())\n",
        "  ax.set_title([labels[idx].item()])"
      ],
      "execution_count": 0,
      "outputs": [
        {
          "output_type": "display_data",
          "data": {
            "image/png": "[encoded data removed]",
            "text/plain": [
              "<Figure size 1800x288 with 20 Axes>"
            ]
          },
          "metadata": {
            "tags": []
          }
        }
      ]
    },
    {
      "cell_type": "code",
      "metadata": {
        "id": "SOuW5VF1OccK",
        "colab_type": "code",
        "colab": {}
      },
      "source": [
        "class LeNet(nn.Module):\n",
        "  \n",
        "    def __init__(self):\n",
        "        super().__init__()\n",
        "        self.conv1 = nn.Conv2d(1, 20, kernel_size=5, stride=1) # 1: Stride\n",
        "        self.conv2 = nn.Conv2d(20, 50, kernel_size=5, stride=1) # 1: Stride\n",
        "        self.fc1 = nn.Linear(4 * 4 * 50, 500) # 1: Stride\n",
        "        self.dropout1 = nn.Dropout(0.5) # the probability that a cell being drop out\n",
        "        self.fc2 = nn.Linear(500, 10) # 1: Stride\n",
        "\n",
        "    def forward(self, x):\n",
        "        x = F.relu(self.conv1(x))\n",
        "        x = F.max_pool2d(x, 2, 2)\n",
        "        x = F.relu(self.conv2(x))\n",
        "        x = F.max_pool2d(x, 2, 2)\n",
        "        x = x.view(-1, 4 * 4 * 50) # Number of rows in the DS : 4 * 4 * 50 | Number of Columns : -1\n",
        "        x = F.relu(self.fc1(x))\n",
        "        x = self.dropout1(x)\n",
        "        x = self.fc2(x)\n",
        "        return x"
      ],
      "execution_count": 0,
      "outputs": []
    },
    {
      "cell_type": "code",
      "metadata": {
        "id": "8UhLl3GG6rSs",
        "colab_type": "code",
        "colab": {}
      },
      "source": [
        "model = LeNet().to(device)\n"
      ],
      "execution_count": 0,
      "outputs": []
    },
    {
      "cell_type": "code",
      "metadata": {
        "id": "xon2lGygHASO",
        "colab_type": "code",
        "colab": {}
      },
      "source": [
        "criterion = nn.CrossEntropyLoss()\n",
        "optimizer = torch.optim.Adam(model.parameters(), lr=0.0001)\n",
        "# the steps that it takes to arrive to the optimal parameters id dictated by the learning rate\n",
        "# if the learning rate is too high => the steps it takes will be too large such that the parameters will in a way flip flop back and forth between points. overshooting the minima => leading to the diavegent losses\n",
        "# generally => decreasing the learning rate allows the model to betterly zero in on the solution for the parameters"
      ],
      "execution_count": 0,
      "outputs": []
    },
    {
      "cell_type": "code",
      "metadata": {
        "id": "DMNIjRj6HzQh",
        "colab_type": "code",
        "outputId": "d9b960c0-4f28-4b9c-f5d6-3f13029e1afe",
        "colab": {
          "base_uri": "https://localhost:8080/",
          "height": 795
        }
      },
      "source": [
        "epochs = 15\n",
        "running_loss_history = []\n",
        "running_correct_history = []\n",
        "val_running_loss_history = []\n",
        "val_running_corrects_history = []\n",
        "\n",
        "for e in range(epochs):\n",
        "  running_loss = 0.0\n",
        "  running_corrects = 0.0\n",
        "  val_running_loss = 0.0\n",
        "  val_running_corrects = 0.0\n",
        "  \n",
        "  for inputs, labels in training_loader:\n",
        "    inputs = inputs.to(device)\n",
        "    labels = labels.to(device)\n",
        "\n",
        "\n",
        "#     print(inputs)\n",
        "    outputs = model(inputs)\n",
        "#     print(outputs)\n",
        "    loss = criterion(outputs, labels)\n",
        "    \n",
        "    optimizer.zero_grad()\n",
        "    loss.backward()\n",
        "    optimizer.step()\n",
        "    \n",
        "    _, preds = torch.max(outputs, 1)\n",
        "    \n",
        "    running_loss += loss.item()\n",
        "    running_corrects += torch.sum(preds == labels.data) # it will give us the number of correct prediction for a single batch of images...\n",
        "\n",
        "  else:\n",
        "    with torch.no_grad(): # it will temprerorerly set all the required grad flags to be false\n",
        "      for val_inputs, val_labels in validation_loader:\n",
        "#         val_inputs = val_inputs.view(val_inputs.shape[0], -1) # 1, 748 : \n",
        "        val_inputs = val_inputs.to(device)\n",
        "        val_labels = val_labels.to(device)\n",
        "    \n",
        "        \n",
        "        val_outputs = model(val_inputs)\n",
        "        val_loss = criterion(val_outputs, val_labels)\n",
        "        \n",
        "        _, val_preds = torch.max(val_outputs, 1)\n",
        "        val_running_loss += val_loss.item()\n",
        "        val_running_corrects += torch.sum(val_preds == val_labels.data)\n",
        "      \n",
        "    epoch_loss = running_loss / len(training_loader.dataset)\n",
        "    epoch_acc = running_corrects.float() / len(training_dataset)\n",
        "    running_loss_history.append(epoch_loss)\n",
        "    running_correct_history.append(epoch_acc)\n",
        "    \n",
        "    val_epoch_loss = val_running_loss / len(validation_loader.dataset)\n",
        "    val_epoch_acc = val_running_corrects.float() / len(validation_dataset)\n",
        "    val_running_loss_history.append(val_epoch_loss)\n",
        "    val_running_corrects_history.append(val_epoch_acc)\n",
        "    \n",
        "    print(\"Epoch : \", (e+1))\n",
        "    print('training loss: {:.4f}, acc {:.4f} '.format(epoch_loss, epoch_acc.item()))\n",
        "    print('Validation loss: {:.4f},  validation acc {:.4f} '.format(val_epoch_loss, val_epoch_acc.item()))\n",
        "\n",
        "    "
      ],
      "execution_count": 0,
      "outputs": [
        {
          "output_type": "stream",
          "text": [
            "Epoch :  1\n",
            "training loss: 0.0057, acc 0.8436 \n",
            "Validation loss: 0.0018,  validation acc 0.9500 \n",
            "Epoch :  2\n",
            "training loss: 0.0015, acc 0.9572 \n",
            "Validation loss: 0.0011,  validation acc 0.9676 \n",
            "Epoch :  3\n",
            "training loss: 0.0010, acc 0.9704 \n",
            "Validation loss: 0.0007,  validation acc 0.9769 \n",
            "Epoch :  4\n",
            "training loss: 0.0008, acc 0.9776 \n",
            "Validation loss: 0.0006,  validation acc 0.9820 \n",
            "Epoch :  5\n",
            "training loss: 0.0006, acc 0.9811 \n",
            "Validation loss: 0.0005,  validation acc 0.9830 \n",
            "Epoch :  6\n",
            "training loss: 0.0006, acc 0.9833 \n",
            "Validation loss: 0.0005,  validation acc 0.9861 \n",
            "Epoch :  7\n",
            "training loss: 0.0005, acc 0.9851 \n",
            "Validation loss: 0.0004,  validation acc 0.9869 \n",
            "Epoch :  8\n",
            "training loss: 0.0004, acc 0.9869 \n",
            "Validation loss: 0.0004,  validation acc 0.9865 \n",
            "Epoch :  9\n",
            "training loss: 0.0004, acc 0.9879 \n",
            "Validation loss: 0.0004,  validation acc 0.9880 \n",
            "Epoch :  10\n",
            "training loss: 0.0004, acc 0.9888 \n",
            "Validation loss: 0.0004,  validation acc 0.9881 \n",
            "Epoch :  11\n",
            "training loss: 0.0003, acc 0.9902 \n",
            "Validation loss: 0.0004,  validation acc 0.9882 \n",
            "Epoch :  12\n",
            "training loss: 0.0003, acc 0.9907 \n",
            "Validation loss: 0.0003,  validation acc 0.9900 \n",
            "Epoch :  13\n",
            "training loss: 0.0003, acc 0.9910 \n",
            "Validation loss: 0.0003,  validation acc 0.9882 \n",
            "Epoch :  14\n",
            "training loss: 0.0003, acc 0.9913 \n",
            "Validation loss: 0.0003,  validation acc 0.9902 \n",
            "Epoch :  15\n",
            "training loss: 0.0002, acc 0.9923 \n",
            "Validation loss: 0.0003,  validation acc 0.9900 \n"
          ],
          "name": "stdout"
        }
      ]
    },
    {
      "cell_type": "code",
      "metadata": {
        "id": "QFe5QetxS6UK",
        "colab_type": "code",
        "outputId": "f443c7eb-3479-4afa-fff5-df0239d13896",
        "colab": {
          "base_uri": "https://localhost:8080/",
          "height": 286
        }
      },
      "source": [
        "plt.plot(running_loss_history, label='Training Loss')\n",
        "plt.plot(val_running_loss_history, label='Validation Loss')\n",
        "plt.legend()"
      ],
      "execution_count": 0,
      "outputs": [
        {
          "output_type": "execute_result",
          "data": {
            "text/plain": [
              "<matplotlib.legend.Legend at 0x7ff2f66433c8>"
            ]
          },
          "metadata": {
            "tags": []
          },
          "execution_count": 11
        },
        {
          "output_type": "display_data",
          "data": {
            "image/png": "[encoded data removed]",
            "text/plain": [
              "<Figure size 432x288 with 1 Axes>"
            ]
          },
          "metadata": {
            "tags": []
          }
        }
      ]
    },
    {
      "cell_type": "markdown",
      "metadata": {
        "id": "drbtdbNrcYKX",
        "colab_type": "text"
      },
      "source": [
        "# OverFitting\n",
        "\n",
        "The more epochs we run -> the training & Validation loss they start to approch one another till at one point the training loss becomes less than the validation loss => there is where you began to overfit the model since what that emplies it is that our model is memorising the training set but then it starts to fail to generalize it's self to the new data on the validation => so realy the number of epochs you train your model on => you have to be careful to not overfit or underfit\n",
        "\n",
        "overfit => where validation error becomes higher than the training error!\n",
        "it means it isstarting to memorise it's self!"
      ]
    },
    {
      "cell_type": "code",
      "metadata": {
        "id": "W2uClvX3alfd",
        "colab_type": "code",
        "outputId": "e091c9a9-786a-4e82-d9d1-ec627992d832",
        "colab": {
          "base_uri": "https://localhost:8080/",
          "height": 287
        }
      },
      "source": [
        "plt.plot(running_correct_history, label=\"Training Accuracy\")\n",
        "plt.plot(val_running_corrects_history, label='Validation Accuracy')\n",
        "plt.legend()"
      ],
      "execution_count": 0,
      "outputs": [
        {
          "output_type": "execute_result",
          "data": {
            "text/plain": [
              "<matplotlib.legend.Legend at 0x7ff2f67ce8d0>"
            ]
          },
          "metadata": {
            "tags": []
          },
          "execution_count": 12
        },
        {
          "output_type": "display_data",
          "data": {
            "image/png": "[encoded data removed]",
            "text/plain": [
              "<Figure size 432x288 with 1 Axes>"
            ]
          },
          "metadata": {
            "tags": []
          }
        }
      ]
    },
    {
      "cell_type": "code",
      "metadata": {
        "id": "1a2z-BwMnS1k",
        "colab_type": "code",
        "outputId": "0bd95939-9e7d-4fb6-dd6f-92caef9109d1",
        "colab": {
          "base_uri": "https://localhost:8080/",
          "height": 52
        }
      },
      "source": [
        "!pip3 install pillow"
      ],
      "execution_count": 0,
      "outputs": [
        {
          "output_type": "stream",
          "text": [
            "Requirement already satisfied: pillow in /usr/local/lib/python3.6/dist-packages (4.3.0)\n",
            "Requirement already satisfied: olefile in /usr/local/lib/python3.6/dist-packages (from pillow) (0.46)\n"
          ],
          "name": "stdout"
        }
      ]
    },
    {
      "cell_type": "code",
      "metadata": {
        "id": "2FaXWKcYgJv_",
        "colab_type": "code",
        "outputId": "2778cd5e-d16d-4a48-e806-37f331c2b5f6",
        "colab": {
          "base_uri": "https://localhost:8080/",
          "height": 286
        }
      },
      "source": [
        "import requests\n",
        "import PIL\n",
        "from PIL import Image\n",
        "url = 'https://martialartsworldnews.com/wp-content/uploads/2015/11/5.jpg'\n",
        "response = requests.get(url, stream=True)\n",
        "img = Image.open(response.raw)\n",
        "plt.imshow(img)\n",
        "# print(response)"
      ],
      "execution_count": 0,
      "outputs": [
        {
          "output_type": "execute_result",
          "data": {
            "text/plain": [
              "<matplotlib.image.AxesImage at 0x7ff2f6553550>"
            ]
          },
          "metadata": {
            "tags": []
          },
          "execution_count": 18
        },
        {
          "output_type": "display_data",
          "data": {
            "image/png": "[encoded data removed]",
            "text/plain": [
              "<Figure size 432x288 with 1 Axes>"
            ]
          },
          "metadata": {
            "tags": []
          }
        }
      ]
    },
    {
      "cell_type": "code",
      "metadata": {
        "id": "eixynZOxm2fK",
        "colab_type": "code",
        "outputId": "0cae7991-aeda-4485-8273-9f52a2e7adbd",
        "colab": {
          "base_uri": "https://localhost:8080/",
          "height": 269
        }
      },
      "source": [
        "img = PIL.ImageOps.invert(img) # it will invert the colors of the image!\n",
        "img = img.convert('1') # convert the image to the bionimial (balck - white)\n",
        "img = transform_temp(img)\n",
        "# a = np.expand_dims(img, axis=1)\n",
        "plt.imshow(img)\n",
        "img = transform_trf(img)"
      ],
      "execution_count": 0,
      "outputs": [
        {
          "output_type": "display_data",
          "data": {
            "image/png": "[encoded data removed]",
            "text/plain": [
              "<Figure size 432x288 with 1 Axes>"
            ]
          },
          "metadata": {
            "tags": []
          }
        }
      ]
    },
    {
      "cell_type": "code",
      "metadata": {
        "id": "l1zRkBwDrVjF",
        "colab_type": "code",
        "outputId": "4497cebf-a19e-4be2-a51f-0efd26d03dcb",
        "colab": {
          "base_uri": "https://localhost:8080/",
          "height": 34
        }
      },
      "source": [
        "# img = img.view(img.shape[0], -1) # 1, 748 : \n",
        "images = img.to(device)\n",
        "image = images[0].unsqueeze(0).unsqueeze(0) # unsqueeze(0) => a new Tensor with a dimention size of 1\n",
        "output = model(image)\n",
        "\n",
        "_, pred = torch.max(output, 1)\n",
        "print(pred.item())"
      ],
      "execution_count": 0,
      "outputs": [
        {
          "output_type": "stream",
          "text": [
            "5\n"
          ],
          "name": "stdout"
        }
      ]
    },
    {
      "cell_type": "code",
      "metadata": {
        "id": "SjfzadsC3Eo6",
        "colab_type": "code",
        "outputId": "afd1413e-8688-4267-e39a-10108238218c",
        "colab": {
          "base_uri": "https://localhost:8080/",
          "height": 288
        }
      },
      "source": [
        "data_iter = iter(validation_loader) # it creates an object that allows us to throw the ittrable training loader one element at a time\n",
        "images, labels = data_iter.next() # it will grab the first batch of out training data\n",
        "images = images.to(device)\n",
        "labels = labels.to(device)\n",
        "# images_ = images.view(images.shape[0], -1) # 1, 748 :\n",
        "output = model(images)\n",
        "_, preds = torch.max(output, 1)\n",
        "fig = plt.figure(figsize=(25, 4)) # width & height of the figure ...\n",
        "\n",
        "for idx in np.arange(20):\n",
        "  ax = fig.add_subplot(2, 10, idx + 1, xticks=[], yticks=[]) # 2 rows & 10 columns!\n",
        "  plt.imshow(img_convert(images[idx]).squeeze())\n",
        "  ax.set_title(\"{} ({})\".format(str(preds[idx].item()), str(labels[idx].item())), color = (\"green\" if preds[idx]==labels[idx] else \"red\"))"
      ],
      "execution_count": 0,
      "outputs": [
        {
          "output_type": "display_data",
          "data": {
            "image/png": "[encoded data removed]",
            "text/plain": [
              "<Figure size 1800x288 with 20 Axes>"
            ]
          },
          "metadata": {
            "tags": []
          }
        }
      ]
    },
    {
      "cell_type": "code",
      "metadata": {
        "id": "9e3vHrhGZI5J",
        "colab_type": "code",
        "colab": {}
      },
      "source": [
        ""
      ],
      "execution_count": 0,
      "outputs": []
    }
  ]
}